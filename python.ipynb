{
  "nbformat": 4,
  "nbformat_minor": 0,
  "metadata": {
    "colab": {
      "name": "python.ipynb",
      "provenance": [],
      "authorship_tag": "ABX9TyMyynGQR0GkbAuUFyqnRP02",
      "include_colab_link": true
    },
    "kernelspec": {
      "name": "python3",
      "display_name": "Python 3"
    },
    "language_info": {
      "name": "python"
    }
  },
  "cells": [
    {
      "cell_type": "markdown",
      "metadata": {
        "id": "view-in-github",
        "colab_type": "text"
      },
      "source": [
        "<a href=\"https://colab.research.google.com/github/micahvarkyez/micahvarkyez/blob/main/python.ipynb\" target=\"_parent\"><img src=\"https://colab.research.google.com/assets/colab-badge.svg\" alt=\"Open In Colab\"/></a>"
      ]
    },
    {
      "cell_type": "code",
      "execution_count": 1,
      "metadata": {
        "colab": {
          "base_uri": "https://localhost:8080/"
        },
        "id": "F43mB3S0W06c",
        "outputId": "88118d9e-bd2f-49c4-c260-b882b010b8d2"
      },
      "outputs": [
        {
          "name": "stdout",
          "output_type": "stream",
          "text": [
            "enter the first no.10\n",
            "enter the second no.15\n"
          ]
        }
      ],
      "source": [
        "x=int(input(\"enter the first no.\"))\n",
        "y=int(input(\"enter the second no.\"))"
      ]
    },
    {
      "cell_type": "code",
      "source": [
        "p=int(input(\"enter the principal amount\"))\n",
        "n=int(input(\"enter the no. of years\"))\n",
        "r=int(input(\"enter the rate\"))/100\n",
        "\n"
      ],
      "metadata": {
        "colab": {
          "base_uri": "https://localhost:8080/"
        },
        "id": "XW0DiVyYXa9v",
        "outputId": "a11f1edd-1e3d-4350-93de-ebc7966e5d8c"
      },
      "execution_count": 2,
      "outputs": [
        {
          "name": "stdout",
          "output_type": "stream",
          "text": [
            "enter the principal amount10000\n",
            "enter the no. of years10\n",
            "enter the rate15\n"
          ]
        }
      ]
    },
    {
      "cell_type": "code",
      "source": [
        "I=p*n*r"
      ],
      "metadata": {
        "id": "NnAZ0VvvYuRV"
      },
      "execution_count": 3,
      "outputs": []
    },
    {
      "cell_type": "code",
      "source": [
        "print(I)"
      ],
      "metadata": {
        "colab": {
          "base_uri": "https://localhost:8080/"
        },
        "id": "zCoYgGFeY5kz",
        "outputId": "a5f56dea-a343-4d79-8411-6c2231276d07"
      },
      "execution_count": 4,
      "outputs": [
        {
          "output_type": "stream",
          "name": "stdout",
          "text": [
            "15000.0\n"
          ]
        }
      ]
    },
    {
      "cell_type": "code",
      "source": [
        "if x>50:\n",
        "  print(\"you are pass\")\n",
        "  \n",
        "if x<50:\n",
        "  print(\"you failed\")"
      ],
      "metadata": {
        "colab": {
          "base_uri": "https://localhost:8080/"
        },
        "id": "7_o7KqpXY8oU",
        "outputId": "8ee065df-a5b9-4f65-9a2a-77e7a691375a"
      },
      "execution_count": 6,
      "outputs": [
        {
          "output_type": "stream",
          "name": "stdout",
          "text": [
            "you failed\n"
          ]
        }
      ]
    },
    {
      "cell_type": "code",
      "source": [
        "x=int(input(\"enter your salary\"))"
      ],
      "metadata": {
        "colab": {
          "base_uri": "https://localhost:8080/"
        },
        "id": "GyZHJ5J1ZN2W",
        "outputId": "19fce51b-5457-485f-db20-270b69050f4d"
      },
      "execution_count": 7,
      "outputs": [
        {
          "name": "stdout",
          "output_type": "stream",
          "text": [
            "enter your salary500000\n"
          ]
        }
      ]
    },
    {
      "cell_type": "code",
      "source": [
        "if 250000<x<500000:\n",
        "  print(\"you are taxable\")\n",
        "  print((x-250000)*10/100)\n",
        "if x<250000:\n",
        "  print(\"you are not taxable\")\n",
        "if x>500000:\n",
        "  print(\"you are taxable\")\n",
        "  print((x-250000)*20/100)"
      ],
      "metadata": {
        "colab": {
          "base_uri": "https://localhost:8080/"
        },
        "id": "EhWk8aYybTdG",
        "outputId": "b042ae69-1e64-498f-ca7d-01eaf62e96f9"
      },
      "execution_count": 15,
      "outputs": [
        {
          "output_type": "stream",
          "name": "stdout",
          "text": [
            "you are taxable\n",
            "70000.0\n"
          ]
        }
      ]
    },
    {
      "cell_type": "code",
      "source": [
        ""
      ],
      "metadata": {
        "id": "8_cS0WFib1J1"
      },
      "execution_count": null,
      "outputs": []
    },
    {
      "cell_type": "code",
      "source": [
        ""
      ],
      "metadata": {
        "id": "mTR16OvWh_rZ"
      },
      "execution_count": null,
      "outputs": []
    }
  ]
}